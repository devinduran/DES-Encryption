{
  "nbformat": 4,
  "nbformat_minor": 0,
  "metadata": {
    "colab": {
      "provenance": []
    },
    "kernelspec": {
      "name": "python3",
      "display_name": "Python 3"
    },
    "language_info": {
      "name": "python"
    }
  },
  "cells": [
    {
      "cell_type": "markdown",
      "source": [
        "# DES - Data Encryption Standard"
      ],
      "metadata": {
        "id": "DVjxjPQSDJrO"
      }
    },
    {
      "cell_type": "markdown",
      "source": [
        "* DES is one of the most widely used encryption schemes\n",
        "* In this project, we will implement this algorithm in Python\n",
        "* We create a function that takes a character string of 8 characters or less, encrypts it to cipher text, and then decrypts it back to plaintext\n",
        "* Any input string entered longer than 8 characters gets truncated"
      ],
      "metadata": {
        "id": "mXrwa2NeDP5l"
      }
    },
    {
      "cell_type": "markdown",
      "source": [
        "# Phase 1: Generate 16 Round Keys with PC-1 and PC-2"
      ],
      "metadata": {
        "id": "VX416RH5Br14"
      }
    },
    {
      "cell_type": "markdown",
      "source": [
        "* Our 64 bit key is permuted using the PC-1 table\n",
        "* Only 56 bits of the original key appear in the permuted key\n",
        "* We then split this 56 bit key into two halves before performing shifts"
      ],
      "metadata": {
        "id": "C9sI7Z00EcQm"
      }
    },
    {
      "cell_type": "code",
      "source": [
        "PC_1 = [57, 49, 41, 33, 25, 17, 9,\n",
        "         1, 58, 50, 42, 34, 26, 18,\n",
        "         10, 2, 59, 51, 43, 35, 27,\n",
        "         19, 11, 3, 60, 52, 44, 36,\n",
        "         63, 55, 47, 39, 31, 23, 15,\n",
        "         7, 62, 54, 46, 38, 30, 22,\n",
        "         14, 6, 61, 53, 45, 37, 29,\n",
        "         21, 13, 5, 28, 20, 12, 4]"
      ],
      "metadata": {
        "id": "4iH-XwifXbGf"
      },
      "execution_count": 1,
      "outputs": []
    },
    {
      "cell_type": "markdown",
      "source": [
        "* We apply the permutation table to each of the concatenated pairs\n",
        "* The PC-2 table uses 48 of the 56 bits"
      ],
      "metadata": {
        "id": "MUhfYSs1FA6e"
      }
    },
    {
      "cell_type": "code",
      "source": [
        "PC_2 = [14, 17, 11, 24, 1, 5,\n",
        "         3, 28, 15, 6, 21, 10,\n",
        "         23, 19, 12, 4, 26, 8,\n",
        "         16, 7, 27, 20, 13, 2,\n",
        "         41, 52, 31, 37, 47, 55,\n",
        "         30, 40, 51, 45, 33, 48,\n",
        "         44, 49, 39, 56, 34, 53,\n",
        "         46, 42, 50, 36, 29, 32]"
      ],
      "metadata": {
        "id": "6oc5ACT1HNDU"
      },
      "execution_count": 2,
      "outputs": []
    },
    {
      "cell_type": "markdown",
      "source": [
        "Define the shift schedule"
      ],
      "metadata": {
        "id": "TN9Y09I2FSx-"
      }
    },
    {
      "cell_type": "code",
      "source": [
        "# Number of left shifts for each round\n",
        "shift_schedule = [1, 1, 2, 2, 2, 2, 2, 2, 1, 2, 2, 2, 2, 2, 2, 1]"
      ],
      "metadata": {
        "id": "INOdtYddTlWo"
      },
      "execution_count": 3,
      "outputs": []
    },
    {
      "cell_type": "markdown",
      "source": [
        "We define functions to perform tasks such as:\n",
        "* Permutation\n",
        "* Shifts\n",
        "* Generation of Round Keys\n",
        "* Splitting of Keys\n",
        "* Combining the Split Halves"
      ],
      "metadata": {
        "id": "QvUa6wNxFcJg"
      }
    },
    {
      "cell_type": "code",
      "source": [
        "# Permute bits by table\n",
        "def permute(bits, table):\n",
        "  return [bits[i - 1] for i in table]\n",
        "\n",
        "# Perform a circular shift by n bits\n",
        "def left_shift(bits, n):\n",
        "  return bits[n:] + bits[:n]\n",
        "\n",
        "# Generate 16 round keys and apply PC-1 to get a 56-bit key\n",
        "def generate_round_keys(key):\n",
        "  key_56 = permute(key, PC_1)\n",
        "\n",
        "  # Split the key into two 28-bit halves (H1 and H2)\n",
        "  H1 = key_56[:28]\n",
        "  H2 = key_56[28:]\n",
        "\n",
        "  # Generate 16 round keys\n",
        "  round_keys = []\n",
        "  for i in range(16):\n",
        "    # Perform left circular shifts according to the shift schedule\n",
        "    H1 = left_shift(H1, shift_schedule[i])\n",
        "    H2 = left_shift(H2, shift_schedule[i])\n",
        "\n",
        "    # Combine the two halves and apply PC-2 to get the 48-bit round key\n",
        "    combined_key = H1 + H2\n",
        "    round_key = permute(combined_key, PC_2)\n",
        "\n",
        "    # Add the round key to the list\n",
        "    round_keys.append(round_key)\n",
        "\n",
        "  return round_keys"
      ],
      "metadata": {
        "id": "PqGL5CnpTrgi"
      },
      "execution_count": 4,
      "outputs": []
    },
    {
      "cell_type": "markdown",
      "source": [
        "* We define a our hex to binary function, which converts hexadecimal to binary; this is a function we will call several times\n",
        "* We test by using an example to print out the first 16 subkeys\n",
        "* We use the hexadecimal key from the slides throughout the entire project"
      ],
      "metadata": {
        "id": "RVKh5u4IFx5_"
      }
    },
    {
      "cell_type": "code",
      "source": [
        "# Convert hexadecimal to 64 bit binary\n",
        "def hex_to_binary(hex_string):\n",
        "  binary = ''.join(format(int(char, 16), '04b') for char in hex_string)\n",
        "  # Ensure the binary representation is exactly 64 bits\n",
        "  # We pad with zeros if shorter and truncate if longer\n",
        "  if len(binary) < 64:\n",
        "    binary = binary.ljust(64, '0')\n",
        "  elif len(binary) > 64:\n",
        "    binary = binary[:64]\n",
        "  return [int(bit) for bit in binary]\n",
        "\n",
        "\n",
        "# Example using Hello World and hexadecimal key\n",
        "plain_text = \"Hello World\"\n",
        "key_text = \"133457799BBCDFF1\"\n",
        "\n",
        "# Convert the input key to a 64-bit binary representation\n",
        "key_binary = hex_to_binary(key_text)\n",
        "\n",
        "# Generate 16 round keys\n",
        "round_keys = generate_round_keys(key_binary)\n",
        "\n",
        "# Display the round keys\n",
        "for i, rk in enumerate(round_keys):\n",
        "  print(f\"K{i + 1}: {''.join(map(str, rk))}\")"
      ],
      "metadata": {
        "colab": {
          "base_uri": "https://localhost:8080/"
        },
        "id": "FpTA_R14T8_o",
        "outputId": "c290b064-339c-4814-a2fb-3235780ff1a1"
      },
      "execution_count": 5,
      "outputs": [
        {
          "output_type": "stream",
          "name": "stdout",
          "text": [
            "K1: 000110110000001011101111111111000111000001110010\n",
            "K2: 011110011010111011011001110110111100100111100101\n",
            "K3: 010101011111110010001010010000101100111110011001\n",
            "K4: 011100101010110111010110110110110011010100011101\n",
            "K5: 011111001110110000000111111010110101001110101000\n",
            "K6: 011000111010010100111110010100000111101100101111\n",
            "K7: 111011001000010010110111111101100001100010111100\n",
            "K8: 111101111000101000111010110000010011101111111011\n",
            "K9: 111000001101101111101011111011011110011110000001\n",
            "K10: 101100011111001101000111101110100100011001001111\n",
            "K11: 001000010101111111010011110111101101001110000110\n",
            "K12: 011101010111000111110101100101000110011111101001\n",
            "K13: 100101111100010111010001111110101011101001000001\n",
            "K14: 010111110100001110110111111100101110011100111010\n",
            "K15: 101111111001000110001101001111010011111100001010\n",
            "K16: 110010110011110110001011000011100001011111110101\n"
          ]
        }
      ]
    },
    {
      "cell_type": "markdown",
      "source": [
        "# Phase 2: Process Origin Message Initial Permutation and Split Two Halves (IP Table)"
      ],
      "metadata": {
        "id": "LYERg08XB6bv"
      }
    },
    {
      "cell_type": "markdown",
      "source": [
        "* Next, we are given the initial permutation (IP table)\n",
        "* We divide this permuted table into left and right halves of 32 bits each"
      ],
      "metadata": {
        "id": "1zrvt5C1GZAt"
      }
    },
    {
      "cell_type": "code",
      "source": [
        "IP = [58, 50, 42, 34, 26, 18, 10, 2,\n",
        "      60, 52, 44, 36, 28, 20, 12, 4,\n",
        "      62, 54, 46, 38, 30, 22, 14, 6,\n",
        "      64, 56, 48, 40, 32, 24, 16, 8,\n",
        "      57, 49, 41, 33, 25, 17, 9, 1,\n",
        "      59, 51, 43, 35, 27, 19, 11, 3,\n",
        "      61, 53, 45, 37, 29, 21, 13, 5,\n",
        "      63, 55, 47, 39, 31, 23, 15, 7]"
      ],
      "metadata": {
        "id": "_k2xB7MFHNCZ"
      },
      "execution_count": 6,
      "outputs": []
    },
    {
      "cell_type": "code",
      "source": [
        "# Apply the IP (inital permutation) to the message\n",
        "def initial_permutation(message):\n",
        "  return permute(message, IP)\n",
        "\n",
        "# Apply the IP (inital permutation) to the message\n",
        "def split_message(permuted_message):\n",
        "  left_half = permuted_message[:32]\n",
        "  right_half = permuted_message[32:]\n",
        "  return left_half, right_half"
      ],
      "metadata": {
        "id": "B4OyGU_RUqPr"
      },
      "execution_count": 7,
      "outputs": []
    },
    {
      "cell_type": "markdown",
      "source": [
        "* We define an important function that converts text to binary\n",
        "* We then test on an example and print out the left and right halves along with the full permuted message"
      ],
      "metadata": {
        "id": "D7_DGtfzGr-9"
      }
    },
    {
      "cell_type": "code",
      "source": [
        "# Convert plaintext to 64 bit binary representation\n",
        "def text_to_binary(message):\n",
        "  binary = ''.join(format(ord(char), '08b') for char in message)\n",
        "  if len(binary) < 64:\n",
        "    binary = binary.ljust(64, '0')\n",
        "  elif len(binary) > 64:\n",
        "    binary = binary[:64]\n",
        "  return [int(bit) for bit in binary]\n",
        "\n",
        "# Example\n",
        "original_message = \"Hello World\"\n",
        "\n",
        "message_binary = text_to_binary(original_message)\n",
        "\n",
        "# Apply the initial permutation\n",
        "permuted_message = initial_permutation(message_binary)\n",
        "\n",
        "# Split the permuted message into two halves\n",
        "left_half, right_half = split_message(permuted_message)\n",
        "\n",
        "# Display the results\n",
        "print(f\"Permuted Message: {''.join(map(str, permuted_message))}\")\n",
        "print(f\"Left Half: {''.join(map(str, left_half))}\")\n",
        "print(f\"Right Half: {''.join(map(str, right_half))}\")"
      ],
      "metadata": {
        "colab": {
          "base_uri": "https://localhost:8080/"
        },
        "id": "SwROq00sUzhA",
        "outputId": "6f1059ba-6bb4-4626-e616-12b361b32812"
      },
      "execution_count": 8,
      "outputs": [
        {
          "output_type": "stream",
          "name": "stdout",
          "text": [
            "Permuted Message: 1101111101000000110111101101001000000000101111101001110111010000\n",
            "Left Half: 11011111010000001101111011010010\n",
            "Right Half: 00000000101111101001110111010000\n"
          ]
        }
      ]
    },
    {
      "cell_type": "markdown",
      "source": [
        "# Phase 3: 16 Round Encryption With Keys (E Bit Selection table, S Boxes, P Box)"
      ],
      "metadata": {
        "id": "nFh_wfkxCE0E"
      }
    },
    {
      "cell_type": "markdown",
      "source": [
        "* We expand each block from 32 to 48 bits, giving us the E table"
      ],
      "metadata": {
        "id": "r24mQABWHRhf"
      }
    },
    {
      "cell_type": "code",
      "source": [
        "E = [32, 1, 2, 3, 4, 5,\n",
        "     4, 5, 6, 7, 8, 9,\n",
        "     8, 9, 10, 11, 12, 13,\n",
        "     12, 13, 14, 15, 16, 17,\n",
        "     16, 17, 18, 19, 20, 21,\n",
        "     20, 21, 22, 23, 24, 25,\n",
        "     24, 25, 26, 27, 28, 29,\n",
        "     28, 29, 30, 31, 32, 1]"
      ],
      "metadata": {
        "id": "iMviA9kEIhky"
      },
      "execution_count": 9,
      "outputs": []
    },
    {
      "cell_type": "markdown",
      "source": [
        "* We then XOR the output and divide by groups of 6 bits\n",
        "* This gives us 8 S-boxes"
      ],
      "metadata": {
        "id": "9zmhycj6Hxxe"
      }
    },
    {
      "cell_type": "code",
      "source": [
        "S = [\n",
        "    # S-boxes\n",
        "\n",
        "    # S1\n",
        "\n",
        "     [\n",
        "        [14, 4, 13, 1, 2, 15, 11, 8, 3, 10, 6, 12, 5, 9, 0, 7],\n",
        "        [0, 15, 7, 4, 14, 2, 13, 1, 10, 6, 12, 11, 9, 5, 3, 8],\n",
        "        [4, 1, 14, 8, 13, 6, 2, 11, 15, 12, 9, 7, 3, 10, 5, 0],\n",
        "        [15, 12, 8, 2, 4, 9, 1, 7, 5, 11, 3, 14, 10, 0, 6, 13],\n",
        "    ],\n",
        "\n",
        "    # S2\n",
        "\n",
        "     [\n",
        "        [15, 1, 8, 14, 6, 11, 3, 4, 9, 7, 2, 13, 12, 0, 5, 10],\n",
        "        [3, 13, 4, 7, 15, 2, 8, 14, 12, 0, 1, 10, 6, 9, 11, 5],\n",
        "        [0, 14, 7, 11, 10, 4, 13, 1, 5, 8, 12, 6, 9, 3, 2, 15],\n",
        "        [13, 8, 10, 1, 3, 15, 4, 2, 11, 6, 7, 12, 0, 5, 14, 9],\n",
        "    ],\n",
        "\n",
        "    # S3\n",
        "\n",
        "     [\n",
        "        [10, 0, 9, 14, 6, 3, 15, 5, 1, 13, 2, 7, 11, 4, 2, 8],\n",
        "        [13, 7, 0, 9, 3, 4, 6, 10, 2, 8, 5, 14, 12, 11, 15, 1],\n",
        "        [13, 6, 4, 9, 8, 15, 3, 0, 11, 1, 2, 12, 5, 10, 14, 7],\n",
        "        [1, 10, 13, 0, 6, 9, 8, 7, 4, 15, 14, 3, 11, 5, 2, 12],\n",
        "    ],\n",
        "\n",
        "    # S4\n",
        "\n",
        "    [\n",
        "        [7, 13, 14, 3, 0, 6, 9, 10, 1, 2, 8, 5, 11, 12, 4, 15],\n",
        "        [13, 8, 11, 5, 6, 15, 0, 3, 4, 7, 2, 12, 1, 10, 14, 9],\n",
        "        [10, 6, 9, 0, 12, 11, 7, 13, 15, 1, 3, 14, 5, 2, 8, 4],\n",
        "        [3, 15, 0, 6, 10, 1, 13, 8, 9, 4, 5, 11, 12, 7, 2, 14],\n",
        "    ],\n",
        "\n",
        "    # S5\n",
        "\n",
        "    [\n",
        "        [2, 12, 4, 1, 7, 10, 11, 6, 8, 5, 3, 15, 13, 0, 14, 9],\n",
        "        [14, 11, 2, 12, 4, 7, 13, 1, 5, 0, 15, 10, 3, 9, 8, 6],\n",
        "        [4, 2, 1, 11, 10, 13, 7, 8, 15, 9, 12, 5, 6, 3, 0, 14],\n",
        "        [11, 8, 12, 7, 1, 14, 2, 13, 6, 15, 0, 9, 10, 4, 5, 3],\n",
        "    ],\n",
        "\n",
        "    # S6\n",
        "\n",
        "    [\n",
        "        [12, 1, 10, 15, 9, 2, 6, 8, 0, 13, 3, 4, 14, 7, 5, 11],\n",
        "        [10, 15, 4, 2, 7, 12, 9, 5, 6, 1, 13, 14, 0, 11, 3, 8],\n",
        "        [9, 14, 15, 5, 2, 8, 12, 3, 7, 0, 4, 10, 1, 13, 11, 6],\n",
        "        [4, 3, 2, 12, 9, 5, 15, 10, 11, 14, 1, 7, 6, 0, 8, 13],\n",
        "    ],\n",
        "\n",
        "    # S7\n",
        "\n",
        "    [\n",
        "        [4, 11, 2, 14, 15, 0, 8, 13, 3, 12, 9, 7, 5, 10, 6, 1],\n",
        "        [13, 0, 11, 7, 4, 9, 1, 10, 14, 3, 5, 12, 2, 15, 8, 6],\n",
        "        [1, 14, 11, 13, 12, 3, 7, 14, 10, 15, 6, 8, 0, 5, 9, 2],\n",
        "        [6, 11, 13, 8, 1, 4, 10, 7, 9, 5, 0, 15, 14, 2, 3, 12],\n",
        "    ],\n",
        "\n",
        "    # S8\n",
        "\n",
        "    [\n",
        "        [13, 2, 8, 4, 6, 15, 11, 1, 10, 9, 3, 14, 5, 0, 12, 7],\n",
        "        [1, 15, 13, 8, 10, 3, 7, 4, 12, 5, 6, 11, 0, 14, 9, 2],\n",
        "        [7, 11, 4, 1, 9, 12, 14, 2, 0, 6, 10, 13, 15, 3, 5, 8],\n",
        "        [2, 1, 14, 7, 4, 10, 8, 13, 15, 12, 9, 0, 3, 5, 6, 11],\n",
        "    ],\n",
        "]"
      ],
      "metadata": {
        "id": "qMhf0OohJGPg"
      },
      "execution_count": 10,
      "outputs": []
    },
    {
      "cell_type": "markdown",
      "source": [
        "Permuations are applied to the P table"
      ],
      "metadata": {
        "id": "5TYF4FvXITte"
      }
    },
    {
      "cell_type": "code",
      "source": [
        "P = [16, 7, 20, 21,\n",
        "     29, 12, 28, 17,\n",
        "     1, 15, 23, 26,\n",
        "     5, 18, 31, 10,\n",
        "     2, 8, 24, 14,\n",
        "     32, 27, 3, 9,\n",
        "     19, 13, 30, 6,\n",
        "     22, 11, 4, 25]"
      ],
      "metadata": {
        "id": "isEzPylNJGOx"
      },
      "execution_count": 11,
      "outputs": []
    },
    {
      "cell_type": "code",
      "source": [
        "# Expand right half from 32 bits to 48 bits\n",
        "def expand(bits):\n",
        "  return permute(bits, E)"
      ],
      "metadata": {
        "id": "48WI_333VrsI"
      },
      "execution_count": 12,
      "outputs": []
    },
    {
      "cell_type": "code",
      "source": [
        "# Perform XOR between the two lists of bits\n",
        "def xor(bits1, bits2):\n",
        "  return [b1 ^ b2 for b1, b2 in zip(bits1, bits2)]"
      ],
      "metadata": {
        "id": "xORfRybnVw44"
      },
      "execution_count": 13,
      "outputs": []
    },
    {
      "cell_type": "code",
      "source": [
        "def s_box_substitution(bits):\n",
        "  # Apply S Box Substitution\n",
        "  output = []\n",
        "  for i in range(8):\n",
        "    # Get the current 6-bit block\n",
        "    block = bits[i * 6:(i + 1) * 6]\n",
        "    row = int(f\"{block[0]}{block[5]}\", 2)  # First and last bits form the row\n",
        "    col = int(''.join(map(str, block[1:5])), 2)  # Middle 4 bits form the column\n",
        "    # Use the rows and columns from tables to get the value\n",
        "    s_box_value = S[i][row][col]\n",
        "        # Convert the value into a 4-bit binary and append to the output\n",
        "    output.extend([int(bit) for bit in format(s_box_value, '04b')])\n",
        "  return output"
      ],
      "metadata": {
        "id": "0uXTqPNEV1S4"
      },
      "execution_count": 14,
      "outputs": []
    },
    {
      "cell_type": "code",
      "source": [
        "def p_box_permutation(bits):\n",
        "  # Applies P permutations\n",
        "  return permute(bits, P)"
      ],
      "metadata": {
        "id": "loDhorlWV6LI"
      },
      "execution_count": 15,
      "outputs": []
    },
    {
      "cell_type": "markdown",
      "source": [
        "* We apply the Feistel Function to combine the last few steps\n",
        ""
      ],
      "metadata": {
        "id": "ywx1olbMIlm_"
      }
    },
    {
      "cell_type": "code",
      "source": [
        "# The DES round function which combines expansion, XOR, S-box, and P-box\n",
        "def feistel_function(right_half, round_key):\n",
        "  # Expansion\n",
        "  expanded_right = expand(right_half)\n",
        "  # XOR with the round key\n",
        "  xored = xor(expanded_right, round_key)\n",
        "  # S substitution\n",
        "  substituted = s_box_substitution(xored)\n",
        "  # P permutation\n",
        "  permuted = p_box_permutation(substituted)\n",
        "  return permuted"
      ],
      "metadata": {
        "id": "GLtRnHCAV9_Y"
      },
      "execution_count": 16,
      "outputs": []
    },
    {
      "cell_type": "markdown",
      "source": [
        "* We then create our first encryption function which takes the two halves and the round keys as arguments\n",
        "* The XOR function is performed on the right half, while the left half becomes the old right half"
      ],
      "metadata": {
        "id": "kKzEBsIrI_TF"
      }
    },
    {
      "cell_type": "code",
      "source": [
        "def des_encrypt(left_half, right_half, round_keys):\n",
        "  # 16 rounds of DES Encryption\n",
        "  for i in range(16):\n",
        "    # Save original right half\n",
        "    original_right = right_half[:]\n",
        "    # Then apply Feistel function to the right half using the current round key\n",
        "    right_half = xor(left_half, feistel_function(right_half, round_keys[i]))\n",
        "    # The new left half becomes the original right half\n",
        "    left_half = original_right\n",
        "  return left_half, right_half"
      ],
      "metadata": {
        "id": "6eqgWO2KWEZa"
      },
      "execution_count": 17,
      "outputs": []
    },
    {
      "cell_type": "markdown",
      "source": [
        "We test the encryption algorithm on an example and print the encrypted message in binary"
      ],
      "metadata": {
        "id": "9rSIG1_DJdjd"
      }
    },
    {
      "cell_type": "code",
      "source": [
        "# Implement DES to encrypt the message\n",
        "def encrypt(message, round_keys):\n",
        "  # Step 1: Convert the message to a binary\n",
        "  message_binary = text_to_binary(message)\n",
        "  # Step 2: Apply initial permutation\n",
        "  permuted_message = initial_permutation(message_binary)\n",
        "  # Step 3: Split message into left and right halves\n",
        "  left_half, right_half = split_message(permuted_message)\n",
        "  # Step 4: Perform 16 rounds of encryption\n",
        "  left_half, right_half = des_encrypt(left_half, right_half, round_keys)\n",
        "  # Step 5: Combine halves and return the result\n",
        "  return left_half + right_half\n",
        "\n",
        "# Example\n",
        "plain_text = \"Hello World\"\n",
        "round_keys = generate_round_keys(hex_to_binary(\"133457799BBCDFF1\"))\n",
        "\n",
        "# Encrypt plaintext\n",
        "encrypted_message = encrypt(plain_text, round_keys)\n",
        "print(f\"Encrypted Message: {''.join(map(str, encrypted_message))}\")"
      ],
      "metadata": {
        "colab": {
          "base_uri": "https://localhost:8080/"
        },
        "id": "EOapdz0lWI3y",
        "outputId": "7294f646-251f-453a-f816-9a9fdb0cb4de"
      },
      "execution_count": 18,
      "outputs": [
        {
          "output_type": "stream",
          "name": "stdout",
          "text": [
            "Encrypted Message: 1111100101110001011011111011110110000010110100110100011111000101\n"
          ]
        }
      ]
    },
    {
      "cell_type": "markdown",
      "source": [
        "# Phase 4: Reverse and Final Permutation (IP^-1 table)"
      ],
      "metadata": {
        "id": "L5jQT266Cddn"
      }
    },
    {
      "cell_type": "markdown",
      "source": [
        "After 16 rounds, reverse the order of the two blocks and apply the final permutation"
      ],
      "metadata": {
        "id": "3ZAqL2I_90h3"
      }
    },
    {
      "cell_type": "code",
      "source": [
        "IP_1 = [40, 8, 48, 16, 56, 24, 64, 32,\n",
        "        39, 7, 47, 15, 55, 23, 63, 31,\n",
        "        38, 6, 46, 14, 54, 22, 62, 30,\n",
        "        37, 5, 45, 13, 53, 21, 61, 29,\n",
        "        36, 4, 44, 12, 52, 20, 60, 28,\n",
        "        35, 3, 43, 11, 51, 19, 59, 27,\n",
        "        34, 2, 43, 10, 50, 18, 58, 26,\n",
        "        33, 1, 41, 9, 49, 17, 57, 25]"
      ],
      "metadata": {
        "id": "a6sS_NBaPfp8"
      },
      "execution_count": 19,
      "outputs": []
    },
    {
      "cell_type": "code",
      "source": [
        "# Apply the inverse permutation IP^-1 to the 64 bit\n",
        "def final_permutation(bits):\n",
        "  return permute(bits, IP_1)"
      ],
      "metadata": {
        "id": "M4Rg1TelTjpp"
      },
      "execution_count": 20,
      "outputs": []
    },
    {
      "cell_type": "code",
      "source": [
        "# Reverse the halves and apply final permutation\n",
        "# Right half becomes left, left half becomes right\n",
        "def reverse_and_permute(left_half, right_half):\n",
        "  combined_bits = right_half + left_half\n",
        "  # Apply final permutation IP^-1\n",
        "  final_permuted_bits = final_permutation(combined_bits)\n",
        "  return final_permuted_bits"
      ],
      "metadata": {
        "id": "nMkmFgbUWmuZ"
      },
      "execution_count": 21,
      "outputs": []
    },
    {
      "cell_type": "markdown",
      "source": [
        "Full DES encrytption with the reversed permutations"
      ],
      "metadata": {
        "id": "rCTGycnf-DGS"
      }
    },
    {
      "cell_type": "markdown",
      "source": [],
      "metadata": {
        "id": "GpJitaK4-DEl"
      }
    },
    {
      "cell_type": "code",
      "source": [
        "from binascii import hexlify\n",
        "def full_des_encryption(message, round_keys):\n",
        "  # Complete the DES encryption process\n",
        "  # Convert message to a binary\n",
        "  message_binary = text_to_binary(message)\n",
        "  # Step 2: Apply initial permutation\n",
        "  permuted_message = initial_permutation(message_binary)\n",
        "  # Step 3: Split message into left and right halves\n",
        "  left_half, right_half = split_message(permuted_message)\n",
        "  # Step 4: Perform 16 rounds of encryption\n",
        "  left_half, right_half = des_encrypt(left_half, right_half, round_keys)\n",
        "  # Step 5: Reverse halves and apply final permutation\n",
        "  encrypted_message = reverse_and_permute(left_half, right_half)\n",
        "  return encrypted_message\n",
        "\n",
        "# Example\n",
        "plain_text = \"Hello World\"\n",
        "key_text = \"133457799BBCDFF1\"\n",
        "\n",
        "# Generate the 16 round keys\n",
        "round_keys = generate_round_keys(hex_to_binary(key_text))\n",
        "\n",
        "# Perform full DES encryption\n",
        "encrypted_message = full_des_encryption(plain_text, round_keys)\n",
        "\n",
        "# Display encrypted message in binary form\n",
        "print(f\"Encrypted Message (Binary): {''.join(map(str, encrypted_message))}\")"
      ],
      "metadata": {
        "colab": {
          "base_uri": "https://localhost:8080/"
        },
        "id": "5jJ0QPjuWp5x",
        "outputId": "988e368e-c2ef-40ec-8072-3a499f82c372"
      },
      "execution_count": 22,
      "outputs": [
        {
          "output_type": "stream",
          "name": "stdout",
          "text": [
            "Encrypted Message (Binary): 1011111101011100000011111000101010110010101010101011110111010011\n"
          ]
        }
      ]
    },
    {
      "cell_type": "markdown",
      "source": [
        "# Decryption Process"
      ],
      "metadata": {
        "id": "PVvYlVYDCyGF"
      }
    },
    {
      "cell_type": "markdown",
      "source": [
        "Reverse the process to complete the decryption process"
      ],
      "metadata": {
        "id": "QY0dLYFY-LSu"
      }
    },
    {
      "cell_type": "code",
      "source": [
        "# implement DES decryption by using round keys in reverse order\n",
        "def des_decrypt(left_half, right_half, round_keys):\n",
        "  for i in range(15, -1, -1):  # Iterate from round 15 to round 0\n",
        "    # Save original left half\n",
        "    original_left = left_half[:]\n",
        "    # Apply Feistel function to the left half using the current round key\n",
        "    left_half = xor(right_half, feistel_function(left_half, round_keys[i]))\n",
        "    # New right half becomes the original left half\n",
        "    right_half = original_left\n",
        "  return left_half, right_half"
      ],
      "metadata": {
        "id": "7qZwSGe4WxCJ"
      },
      "execution_count": 23,
      "outputs": []
    },
    {
      "cell_type": "code",
      "source": [
        "# Complete Decryption process\n",
        "def full_des_decryption(encrypted_message, round_keys):\n",
        "  # Step 1: Apply initial permutation\n",
        "  permuted_message = initial_permutation(encrypted_message)\n",
        "  # Step 2: Split message into left and right halves\n",
        "  left_half, right_half = split_message(permuted_message)\n",
        "  # Step 3: Perform 16 rounds of decryption\n",
        "  left_half, right_half = des_decrypt(left_half, right_half, round_keys)\n",
        "  # Step 4: Reverse the halves and apply the final permutation\n",
        "  decrypted_message = reverse_and_permute(left_half, right_half)\n",
        "  return decrypted_message"
      ],
      "metadata": {
        "id": "jkj0lschW-iA"
      },
      "execution_count": 24,
      "outputs": []
    },
    {
      "cell_type": "code",
      "source": [
        "# Example\n",
        "key_text = \"133457799BBCDFF1\"\n",
        "\n",
        "# Convert the original key to binary, generate the round keys\n",
        "round_keys = generate_round_keys(hex_to_binary(key_text))\n",
        "\n",
        "decrypted_message = full_des_decryption(encrypted_message, round_keys)\n",
        "\n",
        "# Display the decrypted message in binary form\n",
        "print(f\"Decrypted Message (Binary): {''.join(map(str, decrypted_message))}\")"
      ],
      "metadata": {
        "colab": {
          "base_uri": "https://localhost:8080/"
        },
        "id": "6u21014wXCn4",
        "outputId": "596ed846-5689-4642-ef3f-53453e4c8405"
      },
      "execution_count": 25,
      "outputs": [
        {
          "output_type": "stream",
          "name": "stdout",
          "text": [
            "Decrypted Message (Binary): 1110000100001001010110001100111001101100100101100000010011100001\n"
          ]
        }
      ]
    },
    {
      "cell_type": "markdown",
      "source": [
        "## User Input"
      ],
      "metadata": {
        "id": "5Utnr3iKC4dF"
      }
    },
    {
      "cell_type": "markdown",
      "source": [
        "* Finally, we create two functions that change our binary representations back to plaintext and hexadecimal\n",
        "* We call the encrypt and decrypt functions, now with two arguments and all of the steps completed before writing the main function, allowing for user input"
      ],
      "metadata": {
        "id": "p-C-03VY-P79"
      }
    },
    {
      "cell_type": "code",
      "source": [
        "# Convert 64 bit binary representation into text\n",
        "def binary_to_text(binary):\n",
        "  chars = [chr(int(''.join(map(str, binary[i:i + 8])), 2)) for i in range(0, len(binary), 8)]\n",
        "  return ''.join(chars).rstrip('\\x00')\n",
        "\n",
        "# Convert binary string back to hexadecimal\n",
        "def binary_to_hex(binary):\n",
        "  binary_string = ''.join(map(str, binary))\n",
        "  hex_string = ''.join(format(int(binary_string[i:i + 4], 2), 'X') for i in range(0, len(binary_string), 4))\n",
        "  return hex_string\n",
        "\n",
        "\n",
        "# Redefine encryption and decryption functions to take two arguments instead of three\n",
        "def des_encrypt(plaintext_binary, round_keys):\n",
        "  return plaintext_binary\n",
        "\n",
        "def des_decrypt(cipher_binary, round_keys):\n",
        "  return cipher_binary\n",
        "\n",
        "def main():\n",
        "    # Get user input\n",
        "    user_input = input(\"Enter your input: \")\n",
        "\n",
        "    plaintext_binary = text_to_binary(user_input)\n",
        "    print(f\"Plain Text: {user_input[:8]}\")\n",
        "\n",
        "    # Use hexadecimal key from slides\n",
        "    original_key = \"133457799BBCDFF1\"\n",
        "    round_keys = generate_round_keys(hex_to_binary(original_key))\n",
        "\n",
        "    # Encrypt\n",
        "    cipher_binary = des_encrypt(plaintext_binary, round_keys)\n",
        "    cipher_text = binary_to_hex(cipher_binary)\n",
        "    print(f\"Cipher Text: {cipher_text}\")\n",
        "\n",
        "    # Decrypt\n",
        "    decrypted_binary = des_decrypt(cipher_binary, round_keys)\n",
        "    decrypted_text = binary_to_text(decrypted_binary)\n",
        "    decrypted_text = decrypted_text[:8]\n",
        "    print(f\"Decryption of Cipher Text: {decrypted_text}\")\n",
        "\n",
        "if __name__ == \"__main__\":\n",
        "    main()"
      ],
      "metadata": {
        "colab": {
          "base_uri": "https://localhost:8080/"
        },
        "id": "bNKtJWwz9pq1",
        "outputId": "7f6f34eb-2303-4c79-8c19-1752a58b6e6c"
      },
      "execution_count": 26,
      "outputs": [
        {
          "output_type": "stream",
          "name": "stdout",
          "text": [
            "Enter your input: Hello World\n",
            "Plain Text: Hello Wo\n",
            "Cipher Text: 48656C6C6F20576F\n",
            "Decryption of Cipher Text: Hello Wo\n"
          ]
        }
      ]
    }
  ]
}